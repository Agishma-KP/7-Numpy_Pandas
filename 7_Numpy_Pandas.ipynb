{
 "cells": [
  {
   "cell_type": "code",
   "execution_count": 1,
   "id": "1889ac01-0857-4e56-bda7-3fc603fdc7d2",
   "metadata": {},
   "outputs": [],
   "source": [
    "import numpy as np\n",
    "import pandas as pd"
   ]
  },
  {
   "cell_type": "code",
   "execution_count": 5,
   "id": "7adb8693-8ccc-4222-973f-515bf74e8d41",
   "metadata": {},
   "outputs": [
    {
     "name": "stdout",
     "output_type": "stream",
     "text": [
      "[ 1  2  3  4  5  6  7  8  9 10]\n"
     ]
    }
   ],
   "source": [
    "# Exercise 1: Create and reshape a numpy array\n",
    "arr1 = np.arange(1, 11)\n",
    "print(arr1)"
   ]
  },
  {
   "cell_type": "code",
   "execution_count": 7,
   "id": "85d5da61-1ffa-459c-9c57-4a9104c2543b",
   "metadata": {},
   "outputs": [
    {
     "name": "stdout",
     "output_type": "stream",
     "text": [
      "[[ 1  2  3  4  5]\n",
      " [ 6  7  8  9 10]]\n"
     ]
    }
   ],
   "source": [
    "arr1 = arr1.reshape(2, 5)\n",
    "print(arr1)"
   ]
  },
  {
   "cell_type": "code",
   "execution_count": 13,
   "id": "822f6604-1af5-45e7-b3ba-e023cef99bee",
   "metadata": {},
   "outputs": [
    {
     "name": "stdout",
     "output_type": "stream",
     "text": [
      "[ 1  2  3  4  5  6  7  8  9 10 11 12 13 14 15 16 17 18 19 20]\n",
      "[ 6  7  8  9 10 11 12 13 14 15 16]\n"
     ]
    }
   ],
   "source": [
    "# Exercise 2: Extract elements from index 5 to 15\n",
    "arr2 = np.arange(1, 21)\n",
    "print(arr2)\n",
    "extracted = arr2[5:16]\n",
    "print(extracted)"
   ]
  },
  {
   "cell_type": "code",
   "execution_count": 41,
   "id": "58e93093-b4fc-4074-b97b-3b7e8bfc1436",
   "metadata": {},
   "outputs": [
    {
     "name": "stdout",
     "output_type": "stream",
     "text": [
      "apple      3\n",
      "bananas    2\n",
      "Oranges    1\n",
      "dtype: int64\n"
     ]
    }
   ],
   "source": [
    "# Exercise 3: Create and modify a Pandas Series\n",
    "fruit_series = pd.Series([3,2,1],index=[\"apple\",\"bananas\",\"Oranges\"])\n",
    "print(fruit_series)"
   ]
  },
  {
   "cell_type": "code",
   "execution_count": 43,
   "id": "9ab8118f-2fcd-40b9-8fef-dd7770e2a82b",
   "metadata": {},
   "outputs": [
    {
     "name": "stdout",
     "output_type": "stream",
     "text": [
      "apple      3\n",
      "bananas    2\n",
      "Oranges    1\n",
      "pears      4\n",
      "dtype: int64\n"
     ]
    }
   ],
   "source": [
    "fruit_series[\"pears\"] = 4\n",
    "print(fruit_series)"
   ]
  },
  {
   "cell_type": "code",
   "execution_count": 45,
   "id": "ffcccc65-921a-4493-824a-df0ec9c6eaa6",
   "metadata": {},
   "outputs": [
    {
     "name": "stdout",
     "output_type": "stream",
     "text": [
      "        name  age  gender\n",
      "0       Arun   25    Male\n",
      "1       Binu   30    Male\n",
      "2   Chandran   27    Male\n",
      "3     Deepak   35    Male\n",
      "4       Esha   22  Female\n",
      "5     Faisal   40    Male\n",
      "6      Gopal   29    Male\n",
      "7    Haritha   31  Female\n",
      "8  Indrajith   28    Male\n",
      "9      Jayan   33    Male\n"
     ]
    }
   ],
   "source": [
    "# Exercise 4: Create a dataframe with name, age, gender\n",
    "data = {\n",
    "    'name': [\"Arun\", \"Binu\", \"Chandran\", \"Deepak\", \"Esha\", \"Faisal\", \"Gopal\", \"Haritha\", \"Indrajith\", \"Jayan\"],\n",
    "    'age': [25, 30, 27, 35, 22, 40, 29, 31, 28, 33],\n",
    "    'gender': [\"Male\", \"Male\", \"Male\", \"Male\", \"Female\", \"Male\", \"Male\", \"Female\", \"Male\", \"Male\"]\n",
    "}\n",
    "df = pd.DataFrame(data)\n",
    "print(df)\n"
   ]
  },
  {
   "cell_type": "code",
   "execution_count": 47,
   "id": "aea5102a-4b89-458d-852a-340cbaa5f219",
   "metadata": {},
   "outputs": [
    {
     "name": "stdout",
     "output_type": "stream",
     "text": [
      "        name  age  gender  occupation\n",
      "0       Arun   25    Male  Programmer\n",
      "1       Binu   30    Male     Manager\n",
      "2   Chandran   27    Male     Analyst\n",
      "3     Deepak   35    Male  Programmer\n",
      "4       Esha   22  Female     Manager\n",
      "5     Faisal   40    Male     Analyst\n",
      "6      Gopal   29    Male  Programmer\n",
      "7    Haritha   31  Female     Manager\n",
      "8  Indrajith   28    Male     Analyst\n",
      "9      Jayan   33    Male  Programmer\n"
     ]
    }
   ],
   "source": [
    "# Exercise 5: Add a new column 'occupation'\n",
    "df['occupation'] = [\"Programmer\", \"Manager\", \"Analyst\", \"Programmer\", \"Manager\", \"Analyst\", \"Programmer\", \"Manager\", \"Analyst\", \"Programmer\"]\n",
    "print(df)"
   ]
  },
  {
   "cell_type": "code",
   "execution_count": 49,
   "id": "4c283e86-4d46-4e9b-be80-0ad835fad842",
   "metadata": {},
   "outputs": [
    {
     "name": "stdout",
     "output_type": "stream",
     "text": [
      "      name  age  gender  occupation\n",
      "1     Binu   30    Male     Manager\n",
      "3   Deepak   35    Male  Programmer\n",
      "5   Faisal   40    Male     Analyst\n",
      "7  Haritha   31  Female     Manager\n",
      "9    Jayan   33    Male  Programmer\n"
     ]
    }
   ],
   "source": [
    "# Exercise 6: Select rows where age >= 30\n",
    "filtered_df = df[df['age'] >= 30]\n",
    "print(filtered_df)"
   ]
  },
  {
   "cell_type": "code",
   "execution_count": 51,
   "id": "441176ef-44f6-4b71-a783-e6d21b5fc5b6",
   "metadata": {},
   "outputs": [
    {
     "name": "stdout",
     "output_type": "stream",
     "text": [
      "        name  age  gender  occupation\n",
      "0       Arun   25    Male  Programmer\n",
      "1       Binu   30    Male     Manager\n",
      "2   Chandran   27    Male     Analyst\n",
      "3     Deepak   35    Male  Programmer\n",
      "4       Esha   22  Female     Manager\n",
      "5     Faisal   40    Male     Analyst\n",
      "6      Gopal   29    Male  Programmer\n",
      "7    Haritha   31  Female     Manager\n",
      "8  Indrajith   28    Male     Analyst\n",
      "9      Jayan   33    Male  Programmer\n"
     ]
    }
   ],
   "source": [
    "# Exercise 7: Convert dataframe to CSV and read it back\n",
    "df.to_csv(\"dataframe.csv\", index=False)\n",
    "read_df = pd.read_csv(\"dataframe.csv\")\n",
    "print(read_df)"
   ]
  },
  {
   "cell_type": "code",
   "execution_count": null,
   "id": "d82b27c4-481b-4cc4-8f23-8764a529ef82",
   "metadata": {},
   "outputs": [],
   "source": []
  }
 ],
 "metadata": {
  "kernelspec": {
   "display_name": "Python 3 (ipykernel)",
   "language": "python",
   "name": "python3"
  },
  "language_info": {
   "codemirror_mode": {
    "name": "ipython",
    "version": 3
   },
   "file_extension": ".py",
   "mimetype": "text/x-python",
   "name": "python",
   "nbconvert_exporter": "python",
   "pygments_lexer": "ipython3",
   "version": "3.12.7"
  }
 },
 "nbformat": 4,
 "nbformat_minor": 5
}
